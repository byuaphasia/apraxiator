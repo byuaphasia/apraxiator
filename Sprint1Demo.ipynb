{
 "cells": [
  {
   "cell_type": "code",
   "execution_count": 1,
   "metadata": {},
   "outputs": [
    {
     "name": "stdout",
     "output_type": "stream",
     "text": [
      "Recording ambiance....\n",
      "Completed\n"
     ]
    }
   ],
   "source": [
    "import sounddevice as sd\n",
    "from scipy.io.wavfile import write\n",
    "\n",
    "fs = 44100  # Sample rate\n",
    "seconds = 3  # Duration of recording\n",
    "\n",
    "print('Recording ambiance....')\n",
    "amb_recording = sd.rec(int(seconds * fs), samplerate=fs, channels=1)\n",
    "sd.wait()  # Wait until recording is finished\n",
    "print('Completed')\n",
    "amb_file = 'ambiance.wav'\n",
    "write(amb_file, fs, amb_recording)  # Save as WAV file "
   ]
  },
  {
   "cell_type": "code",
   "execution_count": 2,
   "metadata": {},
   "outputs": [
    {
     "name": "stdout",
     "output_type": "stream",
     "text": [
      "Uploading ambiance....\n",
      "Completed\n"
     ]
    }
   ],
   "source": [
    "import requests\n",
    "\n",
    "host = 'http://localhost:8080'\n",
    "\n",
    "print('Uploading ambiance....')\n",
    "amb_endpoint = '/evaluation'\n",
    "files = {'recording': (amb_file, open(amb_file, 'rb'))}\n",
    "r = requests.post(host + amb_endpoint, files=files)\n",
    "evaluation_id = r.json()['evaluationId']\n",
    "print('Completed')"
   ]
  },
  {
   "cell_type": "code",
   "execution_count": 3,
   "metadata": {},
   "outputs": [
    {
     "name": "stdout",
     "output_type": "stream",
     "text": [
      "Recording attempt....\n",
      "Completed\n"
     ]
    }
   ],
   "source": [
    "print('Recording attempt....')\n",
    "att_recording = sd.rec(int(seconds * fs), samplerate=fs, channels=1)\n",
    "sd.wait()\n",
    "print('Completed')\n",
    "att_file = 'attempt.wav'\n",
    "write(att_file, fs, att_recording)"
   ]
  },
  {
   "cell_type": "code",
   "execution_count": 4,
   "metadata": {},
   "outputs": [
    {
     "name": "stdout",
     "output_type": "stream",
     "text": [
      "Uploading attempt....\n",
      "Completed\n",
      "\n",
      "Resulting WSD Calculation: {'endpoint': 218.08767951625092, 'filter': 198.7301587301587}\n"
     ]
    }
   ],
   "source": [
    "print('Uploading attempt....')\n",
    "att_endpoint = '/evaluation/{}/attempt'.format(evaluation_id)\n",
    "params = {\n",
    "    'word': 'gingerbread',\n",
    "    'syllableCount': 3\n",
    "}\n",
    "methods = ['endpoint','filter']\n",
    "results = {}\n",
    "for m in methods:\n",
    "    params['method'] = m\n",
    "    files = {'recording': (att_file, open(att_file, 'rb'))}\n",
    "    r = requests.post(host + att_endpoint, params=params, files=files)\n",
    "    wsd = r.json()['wsd']\n",
    "    results[m] = wsd\n",
    "print('Completed\\n')\n",
    "print('Resulting WSD Calculations: {}'.format(results))"
   ]
  },
  {
   "cell_type": "code",
   "execution_count": null,
   "metadata": {},
   "outputs": [],
   "source": []
  }
 ],
 "metadata": {
  "kernelspec": {
   "display_name": "Python 3",
   "language": "python",
   "name": "python3"
  },
  "language_info": {
   "codemirror_mode": {
    "name": "ipython",
    "version": 3
   },
   "file_extension": ".py",
   "mimetype": "text/x-python",
   "name": "python",
   "nbconvert_exporter": "python",
   "pygments_lexer": "ipython3",
   "version": "3.7.3"
  }
 },
 "nbformat": 4,
 "nbformat_minor": 2
}
