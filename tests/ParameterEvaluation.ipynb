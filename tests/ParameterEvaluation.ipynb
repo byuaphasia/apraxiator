{
 "cells": [
  {
   "cell_type": "code",
   "execution_count": 1,
   "metadata": {},
   "outputs": [],
   "source": [
    "import json\n",
    "import numpy as np\n",
    "import matplotlib.pyplot as plt\n",
    "import soundfile as sf\n",
    "\n",
    "from context import clustering, findendpoints, filterbythreshold, memorystorage, get_environment_percentile"
   ]
  },
  {
   "cell_type": "code",
   "execution_count": 3,
   "metadata": {},
   "outputs": [
    {
     "name": "stdout",
     "output_type": "stream",
     "text": [
      "Running Method: Clustering\n",
      "Running Value: 24\n"
     ]
    },
    {
     "data": {
      "image/png": "[encoded data removed]",
      "text/plain": [
       "<Figure size 432x288 with 1 Axes>"
      ]
     },
     "metadata": {
      "needs_background": "light"
     },
     "output_type": "display_data"
    },
    {
     "name": "stdout",
     "output_type": "stream",
     "text": [
      "Running Method: Endpoint Finding (percentile)\n",
      "Running Value: 10\n",
      "Running Value: 20\n",
      "Running Value: 30\n",
      "Running Value: 40\n"
     ]
    },
    {
     "data": {
      "image/png": "[encoded data removed]",
      "text/plain": [
       "<Figure size 432x288 with 1 Axes>"
      ]
     },
     "metadata": {
      "needs_background": "light"
     },
     "output_type": "display_data"
    },
    {
     "name": "stdout",
     "output_type": "stream",
     "text": [
      "Running Method: Endpoint Finding (window size)\n",
      "Running Value: 0.1\n"
     ]
    },
    {
     "data": {
      "image/png": "[encoded data removed]",
      "text/plain": [
       "<Figure size 432x288 with 1 Axes>"
      ]
     },
     "metadata": {
      "needs_background": "light"
     },
     "output_type": "display_data"
    }
   ],
   "source": [
    "test_cases = json.load(open('testCases.json', 'r'))\n",
    "storage = memorystorage.MemoryStorage()\n",
    "approaches = {\n",
    "    'Clustering': {\n",
    "        'detector': clustering.Clusterer(storage),\n",
    "        'param': 'num_clusters',\n",
    "        'values': [24]\n",
    "    },\n",
    "    'Endpoint Finding (percentile)': {\n",
    "        'detector': findendpoints.EndpointFinder(storage),\n",
    "        'param': 'percentile',\n",
    "        'values': [10, 20, 30, 40]\n",
    "    },\n",
    "    'Endpoint Finding (window size)': {\n",
    "        'detector': findendpoints.EndpointFinder(storage),\n",
    "        'param': 'window_ratio',\n",
    "        'values': [0.1]\n",
    "    }\n",
    "}\n",
    "\n",
    "for name, options in approaches.items():\n",
    "    print('Running Method: {}'.format(name))\n",
    "    error_map = {}\n",
    "    detector = options['detector']\n",
    "    param = options['param']\n",
    "    for v in options['values']:\n",
    "        print('Running Value: {}'.format(v))\n",
    "        errors = []\n",
    "        for case in test_cases:\n",
    "            threshold = get_environment_percentile('recordings/' + case['ambUri'])\n",
    "            id = storage.create_evaluation(threshold, '')\n",
    "            audio, sr = sf.read('recordings/' + case['speechUri'])\n",
    "            duration = detector.measure(audio, sr, id, **{param: v})\n",
    "            errors.append(abs(duration - case['speechDuration']))   \n",
    "        error_map[v] = np.mean(errors)\n",
    "    labels = list(error_map.keys())\n",
    "    heights = list(error_map.values())\n",
    "    x = [i for i in range(len(heights))]\n",
    "    plt.bar(x, heights, tick_label=labels)\n",
    "    plt.show()"
   ]
  },
  {
   "cell_type": "code",
   "execution_count": 6,
   "metadata": {},
   "outputs": [
    {
     "data": {
      "image/png": "[encoded data removed]",
      "text/plain": [
       "<Figure size 432x288 with 1 Axes>"
      ]
     },
     "metadata": {
      "needs_background": "light"
     },
     "output_type": "display_data"
    },
    {
     "name": "stdout",
     "output_type": "stream",
     "text": [
      "\n"
     ]
    }
   ],
   "source": [
    "labels = list(error_map.keys())\n",
    "heights = list(error_map.values())\n",
    "x = [i for i in range(len(heights))]\n",
    "plt.bar(x, heights, tick_label=labels)\n",
    "plt.show()\n",
    "print()"
   ]
  },
  {
   "cell_type": "code",
   "execution_count": null,
   "metadata": {},
   "outputs": [],
   "source": []
  }
 ],
 "metadata": {
  "kernelspec": {
   "display_name": "Python 3",
   "language": "python",
   "name": "python3"
  },
  "language_info": {
   "codemirror_mode": {
    "name": "ipython",
    "version": 3
   },
   "file_extension": ".py",
   "mimetype": "text/x-python",
   "name": "python",
   "nbconvert_exporter": "python",
   "pygments_lexer": "ipython3",
   "version": "3.7.3"
  }
 },
 "nbformat": 4,
 "nbformat_minor": 2
}
